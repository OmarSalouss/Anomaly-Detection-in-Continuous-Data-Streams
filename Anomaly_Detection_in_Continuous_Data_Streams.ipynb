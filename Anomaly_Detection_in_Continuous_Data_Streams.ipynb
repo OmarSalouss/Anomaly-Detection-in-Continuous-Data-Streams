{
  "cells": [
    {
      "cell_type": "markdown",
      "metadata": {
        "id": "vtC4MFd1C-yY"
      },
      "source": [
        "#**Anomaly Detection in Continuous Data Streams**"
      ]
    },
    {
      "cell_type": "markdown",
      "metadata": {
        "id": "KmBkhVjADFrP"
      },
      "source": [
        "## **Project Description**\n",
        "This project involves developing a Python script that detects anomalies in a continuous data stream. This data stream simulates real-time sequences of floating-point numbers, representing various metrics, such as financial transactions or system metrics. The primary goal is to identify unusual patterns, such as exceptionally high values or deviations from the norm."
      ]
    },
    {
      "cell_type": "markdown",
      "metadata": {
        "id": "hrHRegUCDORv"
      },
      "source": [
        "## **Objectives**\n",
        "The main objectives of this project are:\n",
        "\n",
        "1. **Algorithm Selection**: Identify and implement a suitable algorithm for anomaly detection that can adapt to concept drift and seasonal variations.\n",
        "2. **Data Stream Simulation**: Design a function that simulates a continuous data stream, incorporating regular patterns, seasonal elements, and random noise.\n",
        "3. **Anomaly Detection**: Develop a real-time mechanism to accurately flag anomalies as the data is streamed.\n",
        "4. **Optimization**: Ensure that the algorithm is optimized for speed and efficiency.\n",
        "5. **Visualization**: Create a straightforward real-time visualization tool to display both the data stream and any detected anomalies."
      ]
    },
    {
      "cell_type": "markdown",
      "metadata": {
        "id": "e0skXb4xVSj8"
      },
      "source": [
        "## **Explanation of the Chosen Algorithm**\n",
        "\n",
        "- ### Exponential Moving Average (EMA)\n",
        "The EMA is an effective method for smoothing time-series data, which helps in detecting anomalies by focusing more on recent observations. It calculates a weighted average of the past data points, with the latest points having more significance.\n",
        "\n",
        "- ### Isolation Forest\n",
        "Isolation Forest is a robust algorithm designed specifically for anomaly detection. It works by isolating observations in a random partitioning tree structure. Anomalies are expected to be easier to isolate, leading to shorter paths in the tree. This method is particularly effective for high-dimensional datasets.\n",
        "\n",
        "- ### Effectiveness\n",
        "The combination of EMA and Isolation Forest allows the system to adapt to seasonal variations and detect both point anomalies and batch anomalies efficiently. This is particularly useful in scenarios where the data is continuously generated, as it balances real-time detection with accuracy."
      ]
    },
    {
      "cell_type": "markdown",
      "source": [
        "### **Algorithm Selection Explanation**\n",
        "\n",
        "In this project, I chose to implement two algorithms for anomaly detection: the Exponential Moving Average (EMA) and the Isolation Forest. The EMA is particularly effective for real-time data streams, as it adapts quickly to changes in data trends and provides a smoothing mechanism that allows for the detection of deviations from typical patterns. This is essential when monitoring metrics that may have seasonal fluctuations or concept drift. On the other hand, the Isolation Forest is a robust machine learning model specifically designed for anomaly detection in high-dimensional datasets. It excels at identifying anomalies based on the concept of isolating observations in the feature space, making it highly effective for batch processing of data points. By combining these two approaches, the system leverages the strengths of both real-time adaptation and batch anomaly detection, thus ensuring a comprehensive and effective anomaly detection mechanism."
      ],
      "metadata": {
        "id": "IXx6Ocn8XIoN"
      }
    },
    {
      "cell_type": "markdown",
      "metadata": {
        "id": "0foF14nsDZ9f"
      },
      "source": [
        "### **Data Stream Simulation**\n",
        "The `DataPointGenerator` class simulates a real-time data stream by generating floating-point numbers with sinusoidal patterns, seasonal elements, and random noise. Each data point reflects typical metrics, such as financial transactions, while also introducing random anomalies with a 1% probability to help detect unusual patterns.\n",
        "\n",
        "### **Visualization**\n",
        "The `plot_real_time` method in the `AnomalyDetectionSystem` class provides a real-time visualization of the data stream and detected anomalies. It uses Plotly to create an interactive line plot, displaying the data points and highlighting any anomalies detected by both the Exponential Moving Average (EMA) method and the Isolation Forest model."
      ]
    },
    {
      "cell_type": "markdown",
      "metadata": {
        "id": "Y_ix0E8uDho_"
      },
      "source": [
        "### **Environment Setup**\n",
        "Before running the project, ensure you have the required libraries installed. You can use the following command to install them in Google Colab:\n",
        "\n",
        "```python\n",
        "!pip install numpy plotly scikit-learn\n",
        "```"
      ]
    },
    {
      "cell_type": "markdown",
      "metadata": {
        "id": "-5fjFWTLDd-5"
      },
      "source": [
        "## **Code Implementation**\n",
        "The following sections outline the implementation details, including code snippets and explanations."
      ]
    },
    {
      "cell_type": "code",
      "execution_count": null,
      "metadata": {
        "id": "YDL5EvMfPmEg",
        "collapsed": true
      },
      "outputs": [],
      "source": [
        "import numpy as np\n",
        "import random\n",
        "import plotly.graph_objects as go\n",
        "from sklearn.ensemble import IsolationForest\n",
        "\n",
        "class DataPointGenerator:\n",
        "    \"\"\"Class to generate data points with seasonal patterns and random anomalies.\"\"\"\n",
        "\n",
        "    def __init__(self, seasonal_factor: float = 5.0):\n",
        "        self.seasonal_factor = seasonal_factor\n",
        "\n",
        "    def generate(self, time: int) -> float:\n",
        "        \"\"\"\n",
        "        Generate a data point based on sinusoidal patterns with optional anomalies.\n",
        "\n",
        "        Args:\n",
        "            time (int): Current time index to generate the data point.\n",
        "\n",
        "        Returns:\n",
        "            float: The generated data point.\n",
        "        \"\"\"\n",
        "        base_signal = np.sin(2 * np.pi * time / 50)  # Base sinusoidal pattern\n",
        "        seasonal_signal = self.seasonal_factor * np.sin(2 * np.pi * time / 30)  # Seasonal component\n",
        "        noise = 0.1 * np.random.randn()  # Random noise\n",
        "        anomaly = 0\n",
        "\n",
        "        # Introduce a random anomaly with a 1% chance\n",
        "        if random.random() < 0.01:\n",
        "            anomaly = random.choice([-10, 10])  # Anomaly can be -10 or +10\n",
        "\n",
        "        return base_signal + seasonal_signal + noise + anomaly\n",
        "\n",
        "\n",
        "class EMAAnomalyDetector:\n",
        "    \"\"\"Class to detect anomalies using Exponential Moving Average (EMA).\"\"\"\n",
        "\n",
        "    def __init__(self, alpha: float, threshold: float):\n",
        "        \"\"\"\n",
        "        Initialize the EMA Anomaly Detector.\n",
        "\n",
        "        Args:\n",
        "            alpha (float): Smoothing factor for the EMA.\n",
        "            threshold (float): Z-score threshold for anomaly detection.\n",
        "        \"\"\"\n",
        "        self.alpha = alpha\n",
        "        self.threshold = threshold\n",
        "        self.ema = None\n",
        "        self.variance = None\n",
        "\n",
        "    def update(self, x: float) -> bool:\n",
        "        \"\"\"\n",
        "        Update the EMA and check if the current point is an anomaly.\n",
        "\n",
        "        Args:\n",
        "            x (float): New data point.\n",
        "\n",
        "        Returns:\n",
        "            bool: True if the data point is an anomaly, False otherwise.\n",
        "        \"\"\"\n",
        "        if self.ema is None:\n",
        "            self.ema = x\n",
        "            self.variance = 0\n",
        "        else:\n",
        "            prev_ema = self.ema\n",
        "            self.ema = self.alpha * x + (1 - self.alpha) * self.ema\n",
        "            self.variance = self.alpha * (x - prev_ema) ** 2 + (1 - self.alpha) * self.variance\n",
        "\n",
        "        std_dev = np.sqrt(self.variance)\n",
        "        z_score = (x - self.ema) / (std_dev if std_dev != 0 else 1)\n",
        "        return abs(z_score) > self.threshold\n",
        "\n",
        "\n",
        "class AnomalyDetectionSystem:\n",
        "    \"\"\"Anomaly Detection System using EMA and Isolation Forest.\"\"\"\n",
        "\n",
        "    def __init__(self, alpha: float = 0.3, ema_threshold: float = 1.0, contamination: float = 0.01):\n",
        "        \"\"\"\n",
        "        Initialize the Anomaly Detection System.\n",
        "\n",
        "        Args:\n",
        "            alpha (float): Smoothing factor for EMA.\n",
        "            ema_threshold (float): Z-score threshold for EMA anomaly detection.\n",
        "            contamination (float): Proportion of anomalies in the data for Isolation Forest.\n",
        "        \"\"\"\n",
        "        self.alpha = alpha\n",
        "        self.ema_threshold = ema_threshold\n",
        "        self.contamination = contamination\n",
        "        self.data_stream = []  # Store the generated data points\n",
        "        self.ema_anomalies = []  # Store EMA anomalies\n",
        "        self.batch_anomalies = []  # Store batch anomalies\n",
        "        self.model = IsolationForest(contamination=self.contamination)  # Isolation Forest model\n",
        "        self.data_generator = DataPointGenerator(seasonal_factor=5)  # Data generator instance\n",
        "\n",
        "    def detect_anomalies_batch(self):\n",
        "        \"\"\"Detect anomalies using Isolation Forest on the batch data.\"\"\"\n",
        "        if len(self.data_stream) < 10:\n",
        "            print(\"Not enough data points for batch detection.\")\n",
        "            return\n",
        "\n",
        "        data = np.array(self.data_stream).reshape(-1, 1)  # Reshape for model\n",
        "        self.batch_anomalies = self.model.fit_predict(data)  # Detect anomalies\n",
        "\n",
        "    def plot_real_time(self):\n",
        "        \"\"\"Visualize the data stream and detected anomalies.\"\"\"\n",
        "        if len(self.data_stream) == 0:\n",
        "            print(\"No data to plot.\")\n",
        "            return\n",
        "\n",
        "        try:\n",
        "            fig = go.Figure()\n",
        "            fig.add_trace(go.Scatter(x=np.arange(len(self.data_stream)), y=self.data_stream, mode='lines', name='Data Stream'))\n",
        "\n",
        "            # Plot EMA anomalies\n",
        "            ema_anomaly_indices = np.where(np.array(self.ema_anomalies) == True)[0]\n",
        "            if len(ema_anomaly_indices) > 0:\n",
        "                fig.add_trace(go.Scatter(x=ema_anomaly_indices,\n",
        "                                         y=np.array(self.data_stream)[ema_anomaly_indices],\n",
        "                                         mode='markers', marker=dict(color='orange', size=10),\n",
        "                                         name='EMA Anomalies'))\n",
        "\n",
        "            # Plot batch anomalies\n",
        "            if len(self.batch_anomalies) > 0:\n",
        "                batch_anomaly_indices = np.where(self.batch_anomalies == -1)[0]\n",
        "                if len(batch_anomaly_indices) > 0:\n",
        "                    fig.add_trace(go.Scatter(x=batch_anomaly_indices,\n",
        "                                             y=np.array(self.data_stream)[batch_anomaly_indices],\n",
        "                                             mode='markers', marker=dict(color='red', size=10),\n",
        "                                             name='Batch Anomalies (Isolation Forest)'))\n",
        "\n",
        "            # Update layout and show the plot\n",
        "            fig.update_layout(\n",
        "                title='Anomaly Detection in Data Stream',\n",
        "                xaxis_title='Time',\n",
        "                yaxis_title='Value',\n",
        "                hovermode='closest',\n",
        "                template='plotly_white',\n",
        "                width=800,\n",
        "                height=500\n",
        "            )\n",
        "            fig.show()\n",
        "        except Exception as e:\n",
        "            print(f\"Error in plotting data: {e}\")\n",
        "\n",
        "    def run(self):\n",
        "        \"\"\"Run the anomaly detection system.\"\"\"\n",
        "        try:\n",
        "            while True:\n",
        "                new_data_point = self.data_generator.generate(len(self.data_stream))  # Generate new data point\n",
        "                self.data_stream.append(new_data_point)  # Append to data stream\n",
        "\n",
        "                # Update EMA detector for current data stream\n",
        "                ema_detector = EMAAnomalyDetector(self.alpha, self.ema_threshold)\n",
        "                self.ema_anomalies = [ema_detector.update(point) for point in self.data_stream]\n",
        "\n",
        "                # Detect anomalies in batch\n",
        "                self.detect_anomalies_batch()\n",
        "\n",
        "                # Plot the real-time data and anomalies\n",
        "                self.plot_real_time()\n",
        "\n",
        "        except KeyboardInterrupt:\n",
        "            print(\"Stopping the anomaly detection system.\")\n",
        "\n",
        "\n",
        "if __name__ == \"__main__\":\n",
        "    system = AnomalyDetectionSystem()  # Initialize the system\n",
        "    system.run()  # Start the anomaly detection system\n"
      ]
    },
    {
      "cell_type": "markdown",
      "metadata": {
        "id": "dMU1LBYwEhbn"
      },
      "source": [
        "\n",
        "### **Results**\n",
        "The system efficiently detects anomalies in a continuous data stream, providing real-time visual feedback. The orange markers represent anomalies detected using the Exponential Moving Average (EMA) method, while the red markers indicate those identified by the Isolation Forest algorithm. This dual approach enhances the robustness of the detection process, ensuring that various types of anomalies are accurately flagged."
      ]
    },
    {
      "cell_type": "markdown",
      "metadata": {
        "id": "JQpRLYa4Ejfn"
      },
      "source": [
        "### **Conclusion**\n",
        "This project demonstrates the ability to detect anomalies in continuous data streams using Python. By leveraging algorithms such as Exponential Moving Average (EMA) and Isolation Forest, we can effectively identify unusual patterns in data. The implementation also provides a visual representation of the data and anomalies, making it easier to understand the dynamics of the data stream. Future work could include refining the algorithms, optimizing performance further, and exploring additional anomaly detection techniques."
      ]
    },
    {
      "cell_type": "markdown",
      "source": [
        "**Author:** Omar Salous\n",
        "\n",
        "**Email:** omar.salous2@gmail.com"
      ],
      "metadata": {
        "id": "e2fDFDOuZez9"
      }
    }
  ],
  "metadata": {
    "colab": {
      "provenance": []
    },
    "kernelspec": {
      "display_name": "Python 3",
      "name": "python3"
    },
    "language_info": {
      "name": "python"
    }
  },
  "nbformat": 4,
  "nbformat_minor": 0
}